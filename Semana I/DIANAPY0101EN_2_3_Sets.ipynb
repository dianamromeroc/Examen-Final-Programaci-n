{
  "cells": [
    {
      "cell_type": "markdown",
      "metadata": {
        "id": "view-in-github",
        "colab_type": "text"
      },
      "source": [
        "<a href=\"https://colab.research.google.com/github/dianamromeroc/TalleresProgramacionanalitica/blob/master/DIANAPY0101EN_2_3_Sets.ipynb\" target=\"_parent\"><img src=\"https://colab.research.google.com/assets/colab-badge.svg\" alt=\"Open In Colab\"/></a>"
      ]
    },
    {
      "cell_type": "markdown",
      "metadata": {
        "id": "j21pCQe-8VE4"
      },
      "source": [
        "<p style=\"text-align:center\">\n",
        "    <a href=\"https://skills.network/?utm_medium=Exinfluencer&utm_source=Exinfluencer&utm_content=000026UJ&utm_term=10006555&utm_id=NA-SkillsNetwork-Channel-SkillsNetworkCoursesIBMDeveloperSkillsNetworkPY0101ENSkillsNetwork19487395-2022-01-01\" target=\"_blank\">\n",
        "    <img src=\"https://cf-courses-data.s3.us.cloud-object-storage.appdomain.cloud/assets/logos/SN_web_lightmode.png\" width=\"200\" alt=\"Skills Network Logo\"  />\n",
        "    </a>\n",
        "</p>\n",
        "\n",
        "# Sets in Python\n",
        "\n",
        "Estimated time needed: **20** minutes\n",
        "\n",
        "## Objectives\n",
        "\n",
        "After completing this lab you will be able to:\n",
        "\n",
        "*   Work with sets in Python, including operations and logic operations.\n"
      ]
    },
    {
      "cell_type": "markdown",
      "metadata": {
        "id": "Qu1xvVNP8VFD"
      },
      "source": [
        "<h2>Table of Contents</h2>\n",
        "<div class=\"alert alert-block alert-info\" style=\"margin-thttps://op/?utm_medium=Exinfluencer&utm_source=Exinfluencer&utm_content=000026UJ&utm_term=10006555&utm_id=NA-SkillsNetwork-Channel-SkillsNetworkCoursesIBMDeveloperSkillsNetworkPY0101ENSkillsNetwork19487395-2022-01-01: 20px\">\n",
        "    <ul>\n",
        "        <li>\n",
        "            <a href=\"https://#set\">Sets</a>\n",
        "            <ul>\n",
        "                <li><a href=\"https://content/?utm_medium=Exinfluencer&utm_source=Exinfluencer&utm_content=000026UJ&utm_term=10006555&utm_id=NA-SkillsNetwork-Channel-SkillsNetworkCoursesIBMDeveloperSkillsNetworkPY0101ENSkillsNetwork19487395-2022-01-01\">Set Content</a></li>\n",
        "                <li><a href=\"op\">Set Operations</a></li>\n",
        "                <li><a href=\"https://logic/?utm_medium=Exinfluencer&utm_source=Exinfluencer&utm_content=000026UJ&utm_term=10006555&utm_id=NA-SkillsNetwork-Channel-SkillsNetworkCoursesIBMDeveloperSkillsNetworkPY0101ENSkillsNetwork19487395-2022-01-01\">Sets Logic Operations</a></li>\n",
        "            </ul>\n",
        "        </li>\n",
        "        <li>\n",
        "            <a href=\"https://#quiz\">Quiz on Sets</a>\n",
        "        </li>\n",
        "    </ul>\n",
        "\n",
        "</div>\n",
        "\n",
        "<hr>\n"
      ]
    },
    {
      "cell_type": "markdown",
      "metadata": {
        "id": "uCQhYc1i8VFF"
      },
      "source": [
        "<h2 id=\"set\">Sets</h2>\n"
      ]
    },
    {
      "cell_type": "markdown",
      "metadata": {
        "id": "w06s-Y0R8VFH"
      },
      "source": [
        "<h3 id=\"content\">Set Content</h3>\n"
      ]
    },
    {
      "cell_type": "markdown",
      "metadata": {
        "id": "I8cG4Cxp8VFI"
      },
      "source": [
        "A set is a unique collection of objects in Python. You can denote a set with a pair of curly brackets <b>{}</b>. Python will automatically remove duplicate items:\n"
      ]
    },
    {
      "cell_type": "code",
      "execution_count": 1,
      "metadata": {
        "colab": {
          "base_uri": "https://localhost:8080/"
        },
        "id": "-kdMPPdR8VFJ",
        "outputId": "43b3fc4c-a444-4d53-93dc-f430d4a8d580"
      },
      "outputs": [
        {
          "output_type": "execute_result",
          "data": {
            "text/plain": [
              "{'R&B', 'disco', 'hard rock', 'pop', 'rock', 'soul'}"
            ]
          },
          "metadata": {},
          "execution_count": 1
        }
      ],
      "source": [
        "# Create a set\n",
        "\n",
        "set1 = {\"pop\", \"rock\", \"soul\", \"hard rock\", \"rock\", \"R&B\", \"rock\", \"disco\"}\n",
        "set1"
      ]
    },
    {
      "cell_type": "markdown",
      "metadata": {
        "id": "eLSodXYk8VFN"
      },
      "source": [
        "The process of mapping is illustrated in the figure:\n"
      ]
    },
    {
      "cell_type": "markdown",
      "metadata": {
        "id": "mgJjzGJK8VFN"
      },
      "source": [
        "<img src=\"https://cf-courses-data.s3.us.cloud-object-storage.appdomain.cloud/IBMDeveloperSkillsNetwork-PY0101EN-SkillsNetwork/labs/Module%202/images/SetsUnique.png\" width=\"1100\" />\n"
      ]
    },
    {
      "cell_type": "markdown",
      "metadata": {
        "id": "YAVjl6WG8VFP"
      },
      "source": [
        "You can also  create a set from a list as follows:\n"
      ]
    },
    {
      "cell_type": "code",
      "execution_count": 2,
      "metadata": {
        "scrolled": true,
        "colab": {
          "base_uri": "https://localhost:8080/"
        },
        "id": "N4TaLciF8VFQ",
        "outputId": "5971af17-75e1-42b6-8ed8-5a6ed50cc451"
      },
      "outputs": [
        {
          "output_type": "execute_result",
          "data": {
            "text/plain": [
              "{'00:42:19',\n",
              " 10.0,\n",
              " 1982,\n",
              " '30-Nov-82',\n",
              " 46.0,\n",
              " 65,\n",
              " 'Michael Jackson',\n",
              " None,\n",
              " 'Pop, Rock, R&B',\n",
              " 'Thriller'}"
            ]
          },
          "metadata": {},
          "execution_count": 2
        }
      ],
      "source": [
        "# Convert list to set\n",
        "\n",
        "album_list = [ \"Michael Jackson\", \"Thriller\", 1982, \"00:42:19\", \\\n",
        "              \"Pop, Rock, R&B\", 46.0, 65, \"30-Nov-82\", None, 10.0]\n",
        "album_set = set(album_list)             \n",
        "album_set"
      ]
    },
    {
      "cell_type": "markdown",
      "metadata": {
        "id": "P863Jfzw8VFR"
      },
      "source": [
        "Now let us create a set of  genres:\n"
      ]
    },
    {
      "cell_type": "code",
      "execution_count": 3,
      "metadata": {
        "colab": {
          "base_uri": "https://localhost:8080/"
        },
        "id": "xoXDuv0O8VFS",
        "outputId": "8b7d954c-2a78-4e42-fdd9-b35b510494e0"
      },
      "outputs": [
        {
          "output_type": "execute_result",
          "data": {
            "text/plain": [
              "{'R&B',\n",
              " 'disco',\n",
              " 'folk rock',\n",
              " 'hard rock',\n",
              " 'pop',\n",
              " 'progressive rock',\n",
              " 'rock',\n",
              " 'soft rock',\n",
              " 'soul'}"
            ]
          },
          "metadata": {},
          "execution_count": 3
        }
      ],
      "source": [
        "# Convert list to set\n",
        "\n",
        "music_genres = set([\"pop\", \"pop\", \"rock\", \"folk rock\", \"hard rock\", \"soul\", \\\n",
        "                    \"progressive rock\", \"soft rock\", \"R&B\", \"disco\"])\n",
        "music_genres"
      ]
    },
    {
      "cell_type": "markdown",
      "metadata": {
        "id": "hLT8mqIU8VFT"
      },
      "source": [
        "<h3 id=\"op\">Set Operations</h3> \n"
      ]
    },
    {
      "cell_type": "markdown",
      "metadata": {
        "id": "7mla8r2a8VFU"
      },
      "source": [
        "Let us go over set operations, as these can be used to change the set. Consider the set <b>A</b>:\n"
      ]
    },
    {
      "cell_type": "code",
      "execution_count": 4,
      "metadata": {
        "colab": {
          "base_uri": "https://localhost:8080/"
        },
        "id": "MbDHCg5U8VFU",
        "outputId": "780b7801-2d55-49bd-8b32-d73698455afb"
      },
      "outputs": [
        {
          "output_type": "execute_result",
          "data": {
            "text/plain": [
              "{'AC/DC', 'Back in Black', 'Thriller'}"
            ]
          },
          "metadata": {},
          "execution_count": 4
        }
      ],
      "source": [
        "# Sample set\n",
        "\n",
        "A = set([\"Thriller\", \"Back in Black\", \"AC/DC\"])\n",
        "A"
      ]
    },
    {
      "cell_type": "markdown",
      "metadata": {
        "id": "v05aX6tO8VFV"
      },
      "source": [
        "We can add an element to a set using the <code>add()</code> method:\n"
      ]
    },
    {
      "cell_type": "code",
      "execution_count": 5,
      "metadata": {
        "colab": {
          "base_uri": "https://localhost:8080/"
        },
        "id": "wZVpkd148VFW",
        "outputId": "502046da-2242-40b5-c597-288971fcdbc7"
      },
      "outputs": [
        {
          "output_type": "execute_result",
          "data": {
            "text/plain": [
              "{'AC/DC', 'Back in Black', 'NSYNC', 'Thriller'}"
            ]
          },
          "metadata": {},
          "execution_count": 5
        }
      ],
      "source": [
        "# Add element to set\n",
        "\n",
        "A.add(\"NSYNC\")\n",
        "A"
      ]
    },
    {
      "cell_type": "markdown",
      "metadata": {
        "id": "PorKv5FP8VFW"
      },
      "source": [
        "If we add the same element twice, nothing will happen as there can be no duplicates in a set:\n"
      ]
    },
    {
      "cell_type": "code",
      "execution_count": 6,
      "metadata": {
        "colab": {
          "base_uri": "https://localhost:8080/"
        },
        "id": "RQsdoSnp8VFX",
        "outputId": "017bf842-a4d2-4c7d-98c4-e2c1a983ab51"
      },
      "outputs": [
        {
          "output_type": "execute_result",
          "data": {
            "text/plain": [
              "{'AC/DC', 'Back in Black', 'NSYNC', 'Thriller'}"
            ]
          },
          "metadata": {},
          "execution_count": 6
        }
      ],
      "source": [
        "# Try to add duplicate element to the set\n",
        "\n",
        "A.add(\"NSYNC\")\n",
        "A"
      ]
    },
    {
      "cell_type": "markdown",
      "metadata": {
        "id": "H7zd3dS38VFY"
      },
      "source": [
        "We can remove an item from a set using the <code>remove</code> method:\n"
      ]
    },
    {
      "cell_type": "code",
      "execution_count": 7,
      "metadata": {
        "colab": {
          "base_uri": "https://localhost:8080/"
        },
        "id": "TqduaHY-8VFY",
        "outputId": "1b38a71b-e41c-4418-bb4d-2ea5e572d9f3"
      },
      "outputs": [
        {
          "output_type": "execute_result",
          "data": {
            "text/plain": [
              "{'AC/DC', 'Back in Black', 'Thriller'}"
            ]
          },
          "metadata": {},
          "execution_count": 7
        }
      ],
      "source": [
        "# Remove the element from set\n",
        "\n",
        "A.remove(\"NSYNC\")\n",
        "A"
      ]
    },
    {
      "cell_type": "markdown",
      "metadata": {
        "id": "p8NC94UY8VFZ"
      },
      "source": [
        "We can verify if an element is in the set using the <code>in</code> command:\n"
      ]
    },
    {
      "cell_type": "code",
      "execution_count": 8,
      "metadata": {
        "colab": {
          "base_uri": "https://localhost:8080/"
        },
        "id": "RqCXiUT58VFZ",
        "outputId": "32189451-3872-4af3-8b26-bc948537d2a7"
      },
      "outputs": [
        {
          "output_type": "execute_result",
          "data": {
            "text/plain": [
              "True"
            ]
          },
          "metadata": {},
          "execution_count": 8
        }
      ],
      "source": [
        "# Verify if the element is in the set\n",
        "\n",
        "\"AC/DC\" in A"
      ]
    },
    {
      "cell_type": "markdown",
      "metadata": {
        "id": "hUcmCF7f8VFb"
      },
      "source": [
        "<h3 id=\"logic\">Sets Logic Operations</h3>\n"
      ]
    },
    {
      "cell_type": "markdown",
      "metadata": {
        "id": "OQQUzVga8VFb"
      },
      "source": [
        "Remember that with sets you can check the difference between sets, as well as the symmetric difference, intersection, and union:\n"
      ]
    },
    {
      "cell_type": "markdown",
      "metadata": {
        "id": "E2J1wxZA8VFb"
      },
      "source": [
        "Consider the following two sets:\n"
      ]
    },
    {
      "cell_type": "code",
      "execution_count": 9,
      "metadata": {
        "id": "YyaERM9e8VFb"
      },
      "outputs": [],
      "source": [
        "# Sample Sets\n",
        "\n",
        "album_set1 = set([\"Thriller\", 'AC/DC', 'Back in Black'])\n",
        "album_set2 = set([ \"AC/DC\", \"Back in Black\", \"The Dark Side of the Moon\"])"
      ]
    },
    {
      "cell_type": "markdown",
      "metadata": {
        "id": "_bQqDM-y8VFc"
      },
      "source": [
        "<img src=\"https://cf-courses-data.s3.us.cloud-object-storage.appdomain.cloud/IBMDeveloperSkillsNetwork-PY0101EN-SkillsNetwork/labs/Module%202/images/SetsSamples.png\" width=\"650\" />\n"
      ]
    },
    {
      "cell_type": "code",
      "execution_count": 10,
      "metadata": {
        "scrolled": true,
        "colab": {
          "base_uri": "https://localhost:8080/"
        },
        "id": "krMuRa6M8VFc",
        "outputId": "633f90f5-f6d6-46cc-c277-b1e1d1c91ab4"
      },
      "outputs": [
        {
          "output_type": "execute_result",
          "data": {
            "text/plain": [
              "({'AC/DC', 'Back in Black', 'Thriller'},\n",
              " {'AC/DC', 'Back in Black', 'The Dark Side of the Moon'})"
            ]
          },
          "metadata": {},
          "execution_count": 10
        }
      ],
      "source": [
        "# Print two sets\n",
        "\n",
        "album_set1, album_set2"
      ]
    },
    {
      "cell_type": "markdown",
      "metadata": {
        "id": "XM4HFbwQ8VFd"
      },
      "source": [
        "As both sets contain <b>AC/DC</b> and <b>Back in Black</b> we represent these common elements with the intersection of two circles.\n"
      ]
    },
    {
      "cell_type": "markdown",
      "metadata": {
        "id": "46QcH44B8VFd"
      },
      "source": [
        "<img src = \"https://cf-courses-data.s3.us.cloud-object-storage.appdomain.cloud/IBMDeveloperSkillsNetwork-PY0101EN-SkillsNetwork/labs/Module%202/images/SetsLogic.png\" width = \"650\" />\n"
      ]
    },
    {
      "cell_type": "markdown",
      "metadata": {
        "id": "4p4vQkc98VFe"
      },
      "source": [
        "You can find the intersect of two sets as follow using <code>&</code>:\n"
      ]
    },
    {
      "cell_type": "code",
      "execution_count": 11,
      "metadata": {
        "colab": {
          "base_uri": "https://localhost:8080/"
        },
        "id": "MzF2PJeD8VFe",
        "outputId": "28adfd0f-afc9-4e50-fb80-5655c1a98586"
      },
      "outputs": [
        {
          "output_type": "execute_result",
          "data": {
            "text/plain": [
              "{'AC/DC', 'Back in Black'}"
            ]
          },
          "metadata": {},
          "execution_count": 11
        }
      ],
      "source": [
        "# Find the intersections\n",
        "\n",
        "intersection = album_set1 & album_set2\n",
        "intersection"
      ]
    },
    {
      "cell_type": "markdown",
      "metadata": {
        "id": "ab-xy56E8VFe"
      },
      "source": [
        "You can find all the elements that are only contained in <code>album_set1</code> using the <code>difference</code> method:\n"
      ]
    },
    {
      "cell_type": "code",
      "execution_count": 12,
      "metadata": {
        "colab": {
          "base_uri": "https://localhost:8080/"
        },
        "id": "K3x6WJQi8VFf",
        "outputId": "3f70a262-6f91-4a86-aeae-4fd8e14d9d20"
      },
      "outputs": [
        {
          "output_type": "execute_result",
          "data": {
            "text/plain": [
              "{'Thriller'}"
            ]
          },
          "metadata": {},
          "execution_count": 12
        }
      ],
      "source": [
        "# Find the difference in set1 but not set2\n",
        "\n",
        "album_set1.difference(album_set2)  "
      ]
    },
    {
      "cell_type": "markdown",
      "metadata": {
        "id": "FdeGRcrW8VFf"
      },
      "source": [
        "You only need to consider elements in <code>album_set1</code>; all the elements in <code>album_set2</code>, including the intersection, are not included.\n"
      ]
    },
    {
      "cell_type": "markdown",
      "metadata": {
        "id": "wI_ZUA9L8VFg"
      },
      "source": [
        "<img src=\"https://cf-courses-data.s3.us.cloud-object-storage.appdomain.cloud/IBMDeveloperSkillsNetwork-PY0101EN-SkillsNetwork/labs/Module%202/images/SetsLeft.png\" width=\"650\" />\n"
      ]
    },
    {
      "cell_type": "markdown",
      "metadata": {
        "id": "cfr3iFPK8VFg"
      },
      "source": [
        "The elements in <code>album_set2</code> but not in <code>album_set1</code> is given by:\n"
      ]
    },
    {
      "cell_type": "code",
      "execution_count": 13,
      "metadata": {
        "colab": {
          "base_uri": "https://localhost:8080/"
        },
        "id": "QRz0cYEh8VFg",
        "outputId": "ba6d38e7-2946-4c29-c6c7-d27028a76fce"
      },
      "outputs": [
        {
          "output_type": "execute_result",
          "data": {
            "text/plain": [
              "{'The Dark Side of the Moon'}"
            ]
          },
          "metadata": {},
          "execution_count": 13
        }
      ],
      "source": [
        "album_set2.difference(album_set1)  "
      ]
    },
    {
      "cell_type": "markdown",
      "metadata": {
        "id": "arHHMNsM8VFh"
      },
      "source": [
        "<img src = \"https://cf-courses-data.s3.us.cloud-object-storage.appdomain.cloud/IBMDeveloperSkillsNetwork-PY0101EN-SkillsNetwork/labs/Module%202/images/SetsRight.png\" width=\"650\" />\n"
      ]
    },
    {
      "cell_type": "markdown",
      "metadata": {
        "id": "p5O_pMwu8VFh"
      },
      "source": [
        "You can also find the intersection of <code>album_list1</code> and <code>album_list2</code>, using the <code>intersection</code> method:\n"
      ]
    },
    {
      "cell_type": "code",
      "execution_count": 14,
      "metadata": {
        "colab": {
          "base_uri": "https://localhost:8080/"
        },
        "id": "sS-unJdc8VFh",
        "outputId": "1bf16a52-fec7-403d-aa3e-5191d0b217f6"
      },
      "outputs": [
        {
          "output_type": "execute_result",
          "data": {
            "text/plain": [
              "{'AC/DC', 'Back in Black'}"
            ]
          },
          "metadata": {},
          "execution_count": 14
        }
      ],
      "source": [
        "# Use intersection method to find the intersection of album_list1 and album_list2\n",
        "\n",
        "album_set1.intersection(album_set2)   "
      ]
    },
    {
      "cell_type": "markdown",
      "metadata": {
        "id": "IwTHzMig8VFi"
      },
      "source": [
        "This corresponds to the intersection of the two circles:\n"
      ]
    },
    {
      "cell_type": "markdown",
      "metadata": {
        "id": "DaZRKvab8VFi"
      },
      "source": [
        "<img src=\"https://cf-courses-data.s3.us.cloud-object-storage.appdomain.cloud/IBMDeveloperSkillsNetwork-PY0101EN-SkillsNetwork/labs/Module%202/images/SetsIntersect.png\" width=\"650\" />\n"
      ]
    },
    {
      "cell_type": "markdown",
      "metadata": {
        "id": "Sa_7FmdK8VFi"
      },
      "source": [
        "The union corresponds to all the elements in both sets, which is represented by coloring both circles:\n"
      ]
    },
    {
      "cell_type": "markdown",
      "metadata": {
        "id": "6_A_Q3th8VFk"
      },
      "source": [
        "<img src = \"https://cf-courses-data.s3.us.cloud-object-storage.appdomain.cloud/IBMDeveloperSkillsNetwork-PY0101EN-SkillsNetwork/labs/Module%202/images/SetsUnion.png\" width=\"650\" />\n"
      ]
    },
    {
      "cell_type": "markdown",
      "metadata": {
        "id": "FKcdRqYH8VFk"
      },
      "source": [
        "The union is given by:\n"
      ]
    },
    {
      "cell_type": "code",
      "execution_count": 15,
      "metadata": {
        "collapsed": true,
        "colab": {
          "base_uri": "https://localhost:8080/"
        },
        "id": "qGVj8CSX8VFk",
        "outputId": "d350f1b6-4586-49c8-db8d-b843c9e3068f"
      },
      "outputs": [
        {
          "output_type": "execute_result",
          "data": {
            "text/plain": [
              "{'AC/DC', 'Back in Black', 'The Dark Side of the Moon', 'Thriller'}"
            ]
          },
          "metadata": {},
          "execution_count": 15
        }
      ],
      "source": [
        "# Find the union of two sets\n",
        "\n",
        "album_set1.union(album_set2)"
      ]
    },
    {
      "cell_type": "markdown",
      "metadata": {
        "id": "bkpPjhO48VFk"
      },
      "source": [
        "And you can check if a set is a superset or subset of another set, respectively, like this:\n"
      ]
    },
    {
      "cell_type": "code",
      "execution_count": 16,
      "metadata": {
        "colab": {
          "base_uri": "https://localhost:8080/"
        },
        "id": "izAptPlm8VFk",
        "outputId": "1633a083-175b-4710-853d-4124b7e0a971"
      },
      "outputs": [
        {
          "output_type": "execute_result",
          "data": {
            "text/plain": [
              "False"
            ]
          },
          "metadata": {},
          "execution_count": 16
        }
      ],
      "source": [
        "# Check if superset\n",
        "\n",
        "set(album_set1).issuperset(album_set2)   "
      ]
    },
    {
      "cell_type": "code",
      "execution_count": 17,
      "metadata": {
        "colab": {
          "base_uri": "https://localhost:8080/"
        },
        "id": "K8aVEOa_8VFk",
        "outputId": "2dbe220a-6307-491d-ca36-aca0c4d45a9a"
      },
      "outputs": [
        {
          "output_type": "execute_result",
          "data": {
            "text/plain": [
              "False"
            ]
          },
          "metadata": {},
          "execution_count": 17
        }
      ],
      "source": [
        "# Check if subset\n",
        "\n",
        "set(album_set2).issubset(album_set1)     "
      ]
    },
    {
      "cell_type": "markdown",
      "metadata": {
        "id": "nijCiWb68VFl"
      },
      "source": [
        "Here is an example where <code>issubset()</code> and <code>issuperset()</code> return true:\n"
      ]
    },
    {
      "cell_type": "code",
      "execution_count": 18,
      "metadata": {
        "colab": {
          "base_uri": "https://localhost:8080/"
        },
        "id": "RO6bdkhq8VFl",
        "outputId": "5070fe2e-6287-499a-aaab-d4e72094e911"
      },
      "outputs": [
        {
          "output_type": "execute_result",
          "data": {
            "text/plain": [
              "True"
            ]
          },
          "metadata": {},
          "execution_count": 18
        }
      ],
      "source": [
        "# Check if subset\n",
        "\n",
        "set({\"Back in Black\", \"AC/DC\"}).issubset(album_set1) "
      ]
    },
    {
      "cell_type": "code",
      "execution_count": 19,
      "metadata": {
        "colab": {
          "base_uri": "https://localhost:8080/"
        },
        "id": "Fgh0Wy1g8VFl",
        "outputId": "f790cda2-8c65-4296-a5cd-d5244e659d78"
      },
      "outputs": [
        {
          "output_type": "execute_result",
          "data": {
            "text/plain": [
              "True"
            ]
          },
          "metadata": {},
          "execution_count": 19
        }
      ],
      "source": [
        "# Check if superset\n",
        "\n",
        "album_set1.issuperset({\"Back in Black\", \"AC/DC\"})   "
      ]
    },
    {
      "cell_type": "markdown",
      "metadata": {
        "id": "A9fwNZIV8VFm"
      },
      "source": [
        "<hr>\n"
      ]
    },
    {
      "cell_type": "markdown",
      "metadata": {
        "id": "wPB937jL8VFm"
      },
      "source": [
        "<h2 id=\"quiz\">Quiz on Sets</h2>\n"
      ]
    },
    {
      "cell_type": "markdown",
      "metadata": {
        "id": "OhuavfCi8VFo"
      },
      "source": [
        "Convert the list <code>\\['rap','house','electronic music', 'rap']</code> to a set:\n"
      ]
    },
    {
      "cell_type": "code",
      "execution_count": 20,
      "metadata": {
        "colab": {
          "base_uri": "https://localhost:8080/"
        },
        "id": "yZmAj4K88VFo",
        "outputId": "e12b7a42-ad30-412d-e090-d07844dc9a3f"
      },
      "outputs": [
        {
          "output_type": "execute_result",
          "data": {
            "text/plain": [
              "{'electronic music', 'house', 'rap'}"
            ]
          },
          "metadata": {},
          "execution_count": 20
        }
      ],
      "source": [
        "# Write your code below and press Shift+Enter to execute\n",
        "x =['rap','house','electronic music', 'rap']\n",
        "set(x)"
      ]
    },
    {
      "cell_type": "markdown",
      "metadata": {
        "id": "qMPEY6VL8VFo"
      },
      "source": [
        "<details><summary>Click here for the solution</summary>\n",
        "\n",
        "```python\n",
        "set(['rap','house','electronic music','rap'])\n",
        "\n",
        "```\n",
        "\n",
        "</details>\n"
      ]
    },
    {
      "cell_type": "markdown",
      "metadata": {
        "id": "WXTOguUP8VFo"
      },
      "source": [
        "<hr>\n"
      ]
    },
    {
      "cell_type": "markdown",
      "metadata": {
        "id": "CiiOrpqu8VFo"
      },
      "source": [
        "Consider the list <code>A = \\[1, 2, 2, 1]</code> and set <code>B = set(\\[1, 2, 2, 1])</code>, does <code>sum(A) == sum(B)</code>?\n"
      ]
    },
    {
      "cell_type": "code",
      "execution_count": 25,
      "metadata": {
        "colab": {
          "base_uri": "https://localhost:8080/"
        },
        "id": "pPPG4y6_8VFo",
        "outputId": "4ff683e4-5633-40f8-ed6c-e93596989312"
      },
      "outputs": [
        {
          "output_type": "stream",
          "name": "stdout",
          "text": [
            "the sum of A is: 6\n",
            "the sum of B is: 3\n",
            "False\n"
          ]
        }
      ],
      "source": [
        "# Write your code below and press Shift+Enter to execute\n",
        "A = [1, 2, 2, 1]\n",
        "B = set([1, 2, 2, 1])\n",
        "x= sum(A) == sum(B)\n",
        "\n",
        "print(\"the sum of A is:\", sum(A))\n",
        "print(\"the sum of B is:\", sum(B))\n",
        "print(x)"
      ]
    },
    {
      "cell_type": "markdown",
      "metadata": {
        "id": "SAyyicqj8VFq"
      },
      "source": [
        "<details><summary>Click here for the solution</summary>\n",
        "\n",
        "```python\n",
        "A = [1, 2, 2, 1]  \n",
        "B = set([1, 2, 2, 1])\n",
        "print(\"the sum of A is:\", sum(A))\n",
        "print(\"the sum of B is:\", sum(B))\n",
        "\n",
        "```\n",
        "\n",
        "</details>\n"
      ]
    },
    {
      "cell_type": "markdown",
      "metadata": {
        "id": "DvHRfhao8VFq"
      },
      "source": [
        "<hr>\n"
      ]
    },
    {
      "cell_type": "markdown",
      "metadata": {
        "id": "hKs6mFBI8VFq"
      },
      "source": [
        "Create a new set <code>album_set3</code> that is the union of <code>album_set1</code> and <code>album_set2</code>:\n"
      ]
    },
    {
      "cell_type": "code",
      "execution_count": 28,
      "metadata": {
        "colab": {
          "base_uri": "https://localhost:8080/"
        },
        "id": "iuv6jEwY8VFq",
        "outputId": "8586c3fc-7da1-4506-d6d5-c1bf76a0f8cd"
      },
      "outputs": [
        {
          "output_type": "execute_result",
          "data": {
            "text/plain": [
              "{'AC/DC', 'Back in Black', 'The Dark Side of the Moon', 'Thriller'}"
            ]
          },
          "metadata": {},
          "execution_count": 28
        }
      ],
      "source": [
        "# Write your code below and press Shift+Enter to execute\n",
        "\n",
        "album_set1 = set([\"Thriller\", 'AC/DC', 'Back in Black'])\n",
        "album_set2 = set([ \"AC/DC\", \"Back in Black\", \"The Dark Side of the Moon\"])\n",
        "album_set3 = album_set1.union(album_set2)\n",
        "album_set3"
      ]
    },
    {
      "cell_type": "markdown",
      "metadata": {
        "id": "CX-7hmce8VFq"
      },
      "source": [
        "<details><summary>Click here for the solution</summary>\n",
        "\n",
        "```python\n",
        "album_set3 = album_set1.union(album_set2)\n",
        "album_set3\n",
        "\n",
        "```\n",
        "\n",
        "</details>\n"
      ]
    },
    {
      "cell_type": "markdown",
      "metadata": {
        "id": "KyrnHBTI8VFr"
      },
      "source": [
        "<hr>\n"
      ]
    },
    {
      "cell_type": "markdown",
      "metadata": {
        "id": "brUc4g4R8VFr"
      },
      "source": [
        "Find out if <code>album_set1</code> is a subset of <code>album_set3</code>:\n"
      ]
    },
    {
      "cell_type": "code",
      "execution_count": 29,
      "metadata": {
        "colab": {
          "base_uri": "https://localhost:8080/"
        },
        "id": "PY2ADLI88VFr",
        "outputId": "716f58fb-e2f8-4be2-ae13-3682d7b55697"
      },
      "outputs": [
        {
          "output_type": "execute_result",
          "data": {
            "text/plain": [
              "True"
            ]
          },
          "metadata": {},
          "execution_count": 29
        }
      ],
      "source": [
        "# Write your code below and press Shift+Enter to execute\n",
        "set(album_set1).issubset(album_set3)"
      ]
    },
    {
      "cell_type": "markdown",
      "metadata": {
        "id": "UEFA8ci48VFs"
      },
      "source": [
        "<details><summary>Click here for the solution</summary>\n",
        "\n",
        "```python\n",
        "album_set1.issubset(album_set3)\n",
        "\n",
        "```\n",
        "\n",
        "</details>\n"
      ]
    },
    {
      "cell_type": "markdown",
      "metadata": {
        "id": "FxaW9h7E8VFs"
      },
      "source": [
        "<hr>\n",
        "<h2>The last exercise!</h2>\n",
        "<p>Congratulations, you have completed your first lesson and hands-on lab in Python. \n",
        "<hr>\n"
      ]
    },
    {
      "cell_type": "markdown",
      "metadata": {
        "id": "1P59nMmS8VFs"
      },
      "source": [
        "## Author\n",
        "\n",
        "<a href=\"https://www.linkedin.com/in/joseph-s-50398b136/?utm_medium=Exinfluencer&utm_source=Exinfluencer&utm_content=000026UJ&utm_term=10006555&utm_id=NA-SkillsNetwork-Channel-SkillsNetworkCoursesIBMDeveloperSkillsNetworkPY0101ENSkillsNetwork19487395-2022-01-01\" target=\"_blank\">Joseph Santarcangelo</a>\n",
        "\n",
        "## Other contributors\n",
        "\n",
        "<a href=\"https://www.linkedin.com/in/jiahui-mavis-zhou-a4537814a?utm_medium=Exinfluencer&utm_source=Exinfluencer&utm_content=000026UJ&utm_term=10006555&utm_id=NA-SkillsNetwork-Channel-SkillsNetworkCoursesIBMDeveloperSkillsNetworkPY0101ENSkillsNetwork19487395-2022-01-01\">Mavis Zhou</a>\n",
        "\n",
        "## Change Log\n",
        "\n",
        "| Date (YYYY-MM-DD) | Version | Changed By | Change Description                 |\n",
        "| ----------------- | ------- | ---------- | ---------------------------------- |\n",
        "| 2022-01-10        | 2.1     | Malika     | Removed the readme for GitShare    |\n",
        "| 2020-08-26        | 2.0     | Lavanya    | Moved lab to course repo in GitLab |\n",
        "|                   |         |            |                                    |\n",
        "|                   |         |            |                                    |\n",
        "\n",
        "## <h3 align=\"center\"> © IBM Corporation 2020. All rights reserved. <h3/>\n"
      ]
    }
  ],
  "metadata": {
    "kernelspec": {
      "display_name": "Python 3",
      "language": "python",
      "name": "python3"
    },
    "language_info": {
      "codemirror_mode": {
        "name": "ipython",
        "version": 3
      },
      "file_extension": ".py",
      "mimetype": "text/x-python",
      "name": "python",
      "nbconvert_exporter": "python",
      "pygments_lexer": "ipython3",
      "version": "3.7.6"
    },
    "colab": {
      "name": "DIANAPY0101EN-2-3-Sets.ipynb",
      "provenance": [],
      "include_colab_link": true
    }
  },
  "nbformat": 4,
  "nbformat_minor": 0
}