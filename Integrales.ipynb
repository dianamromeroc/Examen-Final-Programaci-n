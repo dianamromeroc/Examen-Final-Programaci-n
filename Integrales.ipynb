{
  "cells": [
    {
      "cell_type": "markdown",
      "metadata": {
        "id": "view-in-github",
        "colab_type": "text"
      },
      "source": [
        "<a href=\"https://colab.research.google.com/github/dianamromeroc/Proyecto-Programaci-n/blob/master/Integrales.ipynb\" target=\"_parent\"><img src=\"https://colab.research.google.com/assets/colab-badge.svg\" alt=\"Open In Colab\"/></a>"
      ]
    },
    {
      "cell_type": "code",
      "execution_count": null,
      "metadata": {
        "id": "pA4Ulq0L2fca"
      },
      "outputs": [],
      "source": [
        "from sympy import *\n",
        "import numpy as np\n",
        "from scipy import integrate\n",
        "import ctypes\n",
        "import scipy\n",
        "from scipy.integrate import quad\n",
        "\n",
        "x= symbols('X')\n",
        "f= x**2+2*x-3\n",
        "res= integrate(f,x)\n",
        "\n",
        "print(f'La respuesta de la integral es{res}')\n",
        "\n"
      ]
    },
    {
      "cell_type": "code",
      "execution_count": null,
      "metadata": {
        "colab": {
          "base_uri": "https://localhost:8080/",
          "height": 245
        },
        "id": "DmRKnwmzqWnl",
        "outputId": "fd2d3a6d-82bd-4ba7-9441-dfa8c931c2eb"
      },
      "outputs": [
        {
          "ename": "TypeError",
          "evalue": "ignored",
          "output_type": "error",
          "traceback": [
            "\u001b[0;31m---------------------------------------------------------------------------\u001b[0m",
            "\u001b[0;31mTypeError\u001b[0m                                 Traceback (most recent call last)",
            "\u001b[0;32m<ipython-input-12-e0cc96677621>\u001b[0m in \u001b[0;36m<module>\u001b[0;34m()\u001b[0m\n\u001b[1;32m      8\u001b[0m \u001b[0me\u001b[0m\u001b[0;34m=\u001b[0m \u001b[0msymbols\u001b[0m\u001b[0;34m(\u001b[0m\u001b[0;34m'X'\u001b[0m\u001b[0;34m)\u001b[0m\u001b[0;34m\u001b[0m\u001b[0;34m\u001b[0m\u001b[0m\n\u001b[1;32m      9\u001b[0m \u001b[0mf\u001b[0m\u001b[0;34m=\u001b[0m \u001b[0me\u001b[0m\u001b[0;34m**\u001b[0m\u001b[0;34m-\u001b[0m\u001b[0mx\u001b[0m\u001b[0;34m**\u001b[0m\u001b[0;36m2\u001b[0m\u001b[0;34m\u001b[0m\u001b[0;34m\u001b[0m\u001b[0m\n\u001b[0;32m---> 10\u001b[0;31m \u001b[0mres\u001b[0m\u001b[0;34m=\u001b[0m \u001b[0mintegrate\u001b[0m\u001b[0;34m(\u001b[0m\u001b[0mf\u001b[0m\u001b[0;34m,\u001b[0m\u001b[0me\u001b[0m\u001b[0;34m)\u001b[0m\u001b[0;34m\u001b[0m\u001b[0;34m\u001b[0m\u001b[0m\n\u001b[0m\u001b[1;32m     11\u001b[0m \u001b[0;34m\u001b[0m\u001b[0m\n\u001b[1;32m     12\u001b[0m \u001b[0mprint\u001b[0m\u001b[0;34m(\u001b[0m\u001b[0;34mf'La respuesta de la integral es{res}'\u001b[0m\u001b[0;34m)\u001b[0m\u001b[0;34m\u001b[0m\u001b[0;34m\u001b[0m\u001b[0m\n",
            "\u001b[0;31mTypeError\u001b[0m: 'module' object is not callable"
          ]
        }
      ],
      "source": [
        "from sympy import *\n",
        "import numpy as np\n",
        "from scipy import integrate\n",
        "import ctypes\n",
        "import scipy\n",
        "from scipy.integrate import quad\n",
        "\n",
        "e= symbols('X')\n",
        "f= e**-x**2\n",
        "res= integrate(f,e)\n",
        "\n",
        "print(f'La respuesta de la integral es{res}')\n",
        "\n"
      ]
    },
    {
      "cell_type": "code",
      "execution_count": null,
      "metadata": {
        "colab": {
          "base_uri": "https://localhost:8080/"
        },
        "id": "lJtrbekesYB5",
        "outputId": "62ff2c51-f583-4e8e-b981-69efc5715d4a"
      },
      "outputs": [
        {
          "name": "stdout",
          "output_type": "stream",
          "text": [
            "(0.7468241328124271, 8.291413475940725e-15)\n"
          ]
        }
      ],
      "source": [
        "import numpy as np\n",
        "from scipy import integrate\n",
        "import ctypes\n",
        "import scipy\n",
        "from scipy.integrate import quad\n",
        "\n",
        "\n",
        "f = lambda x: np.exp(-x**2)\n",
        "print(quad(f,0,1))\n"
      ]
    },
    {
      "cell_type": "code",
      "execution_count": null,
      "metadata": {
        "colab": {
          "base_uri": "https://localhost:8080/"
        },
        "id": "6GD_rQToqBmn",
        "outputId": "b60960b6-6ff1-47da-e4f5-6f603c1cde5f"
      },
      "outputs": [
        {
          "output_type": "stream",
          "name": "stdout",
          "text": [
            "0.7468241328124773\n"
          ]
        }
      ],
      "source": [
        "#punto medio\n",
        "import numpy as np\n",
        "import math\n",
        "\n",
        "a=0\n",
        "b=1\n",
        "n= 1000000\n",
        "\n",
        "def expnegcuad(a1,b1,n1):\n",
        "  m=0\n",
        "  for i in range(n1):\n",
        "    j= i+1\n",
        "    m += math.exp(-(a1+(b1-a1)*(2*j-1)/(2*n1))**2)\n",
        "  return m/n1\n",
        "\n",
        "print(expnegcuad(a,b,n))"
      ]
    },
    {
      "cell_type": "code",
      "source": [
        "#trapecio\n",
        "import numpy as np\n",
        "import math\n",
        "\n",
        "a=0\n",
        "b=1\n",
        "n= 1000000\n",
        "\n",
        "def expnegcuad(a1,b1,n1):\n",
        "  m=0\n",
        "  for i in range(n1):\n",
        "    j= i+1\n",
        "    x1= a1+(b1-a1)*(j+1)/(n1)\n",
        "    x2= a1+(b1-a1)*(j)/(n1)\n",
        "    m += math.exp(-(x1)**2)+math.exp(-(x2)(b1-a1)*\n",
        "  return m/n1\n",
        "\n",
        "print(expnegcuad(a,b,n))\n"
      ],
      "metadata": {
        "id": "2czuXC4Fu9fB"
      },
      "execution_count": null,
      "outputs": []
    },
    {
      "cell_type": "code",
      "source": [
        "import numpy as np\n",
        "import math as mt\n",
        "\n",
        "\n",
        "\n",
        "def trapecio(a,b,n):\n",
        "  S = 0\n",
        "  for i in range(n):\n",
        "    x1= a+(b-a)*(i)/n\n",
        "    f1x=(np.log(x1))**(2*x1)\n",
        "    x2=a+(b-a)*(i+1)/n\n",
        "    f2x=(np.log(x2))**(2*x2)\n",
        "    S += f1x + f2x\n",
        "  return S*(b-a)/(2*n)\n",
        "print(trapecio(1,1.1,10))\n",
        "print(trapecio(1,1.1,100))\n",
        "print(trapecio(1,1.1,1000))\n",
        "    "
      ],
      "metadata": {
        "colab": {
          "base_uri": "https://localhost:8080/"
        },
        "id": "hmfxV6GLhIqb",
        "outputId": "896fd2a0-21ec-4ee1-acf5-4f3c4f5c1d16"
      },
      "execution_count": 12,
      "outputs": [
        {
          "output_type": "stream",
          "name": "stdout",
          "text": [
            "0.0002117863988949765\n",
            "0.0002110246910338332\n",
            "0.0002110170652532371\n"
          ]
        }
      ]
    }
  ],
  "metadata": {
    "colab": {
      "name": "Integrales.ipynb",
      "provenance": [],
      "authorship_tag": "ABX9TyPPpCiS+ESjRIffMctUOssx",
      "include_colab_link": true
    },
    "kernelspec": {
      "display_name": "Python 3",
      "name": "python3"
    },
    "language_info": {
      "name": "python"
    }
  },
  "nbformat": 4,
  "nbformat_minor": 0
}