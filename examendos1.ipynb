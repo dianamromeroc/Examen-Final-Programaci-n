{
  "nbformat": 4,
  "nbformat_minor": 0,
  "metadata": {
    "colab": {
      "name": "examendos1.ipynb",
      "provenance": [],
      "authorship_tag": "ABX9TyPz2PYHf44VnPcXHkkPZCiQ",
      "include_colab_link": true
    },
    "kernelspec": {
      "name": "python3",
      "display_name": "Python 3"
    },
    "language_info": {
      "name": "python"
    }
  },
  "cells": [
    {
      "cell_type": "markdown",
      "metadata": {
        "id": "view-in-github",
        "colab_type": "text"
      },
      "source": [
        "<a href=\"https://colab.research.google.com/github/dianamromeroc/Proyecto-Programaci-n/blob/master/examendos1.ipynb\" target=\"_parent\"><img src=\"https://colab.research.google.com/assets/colab-badge.svg\" alt=\"Open In Colab\"/></a>"
      ]
    },
    {
      "cell_type": "code",
      "execution_count": 1,
      "metadata": {
        "colab": {
          "base_uri": "https://localhost:8080/"
        },
        "id": "4CuK4XiN3iiM",
        "outputId": "e9fd3b84-e3de-4b99-a8bd-08bac1ecbb83"
      },
      "outputs": [
        {
          "output_type": "stream",
          "name": "stdout",
          "text": [
            "Digite número de dos cifras : 67\n",
            "El númeroinvertido es : 76\n"
          ]
        }
      ],
      "source": [
        "import math\n",
        "\n",
        "numerodoscifras = 0\n",
        "salidainvertido = 0\n",
        "n1 = 0\n",
        "n2 = 0\n",
        "\n",
        "numerodoscifras= int(input(\"Digite número de dos cifras : \"))\n",
        "\n",
        "n1 = numerodoscifras%10\n",
        "n2  = int((numerodoscifras%100/10))\n",
        "salidainvertido = (str(n1)+str(n2))\n",
        "\n",
        "print( \"El númeroinvertido es :\", salidainvertido)"
      ]
    }
  ]
}