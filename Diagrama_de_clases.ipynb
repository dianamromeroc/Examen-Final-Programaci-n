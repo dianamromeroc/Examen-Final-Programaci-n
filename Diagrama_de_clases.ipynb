{
  "nbformat": 4,
  "nbformat_minor": 0,
  "metadata": {
    "colab": {
      "name": "Diagrama de clases.ipynb",
      "provenance": [],
      "authorship_tag": "ABX9TyPKbCqLx8GDIAaZhB6jkvVX",
      "include_colab_link": true
    },
    "kernelspec": {
      "name": "python3",
      "display_name": "Python 3"
    },
    "language_info": {
      "name": "python"
    }
  },
  "cells": [
    {
      "cell_type": "markdown",
      "metadata": {
        "id": "view-in-github",
        "colab_type": "text"
      },
      "source": [
        "<a href=\"https://colab.research.google.com/github/dianamromeroc/Examen-Final-Programaci-n/blob/master/Diagrama_de_clases.ipynb\" target=\"_parent\"><img src=\"https://colab.research.google.com/assets/colab-badge.svg\" alt=\"Open In Colab\"/></a>"
      ]
    },
    {
      "cell_type": "code",
      "execution_count": null,
      "metadata": {
        "id": "Ga1QWk4N3yYw"
      },
      "outputs": [],
      "source": [
        "class User:\n",
        "  userId:str\n",
        "  password:str\n",
        "  registerDate:date\n",
        "\n",
        "  def login(self):\n",
        "    print(\"se ha logueado con exito\")\n",
        "\n",
        "class Administrador:\n",
        "  name:str\n",
        "  email:str\n",
        "  user:User\n",
        "\n",
        "\n",
        "  def updateproducts(self):\n",
        "    print(\"actualizacion completada con exito\")\n",
        "\n",
        "class Custumer:\n",
        "  name:str\n",
        "  address:str\n",
        "  email:str\n",
        "  costumerId:str\n",
        "  accountBalance:float\n",
        "  usua:User\n",
        "\n",
        "  def regitro(self):\n",
        "    print(\"se ha registrado con exito\")\n",
        "  \n",
        "  def purchase(self):\n",
        "    print(\"exito\")\n",
        "\n",
        "class Order:\n",
        "  orderid:str\n",
        "  date:date\n",
        "  costumerName:str\n",
        "  costumerId:str\n",
        "\n",
        "  def _init_(self,costumer:Costumer):\n",
        "    self.usuario=costumer\n",
        "\n",
        "  def placeorder(self):\n",
        "    print(\"se asignara un lugar a la orden\")\n",
        "\n",
        "class OrderDetails:\n",
        "  orderid:str\n",
        "  productId:str\n",
        "  productName:str\n",
        "  quatity:int\n",
        "  unitCost:float\n",
        "  total:float"
      ]
    }
  ]
}