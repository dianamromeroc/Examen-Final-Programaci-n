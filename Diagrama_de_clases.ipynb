{
  "nbformat": 4,
  "nbformat_minor": 0,
  "metadata": {
    "colab": {
      "name": "Diagrama de clases.ipynb",
      "provenance": [],
      "authorship_tag": "ABX9TyPTym/o7b+PGOZWhKnqTWZ3",
      "include_colab_link": true
    },
    "kernelspec": {
      "name": "python3",
      "display_name": "Python 3"
    },
    "language_info": {
      "name": "python"
    }
  },
  "cells": [
    {
      "cell_type": "markdown",
      "metadata": {
        "id": "view-in-github",
        "colab_type": "text"
      },
      "source": [
        "<a href=\"https://colab.research.google.com/github/dianamromeroc/Examen-Final-Programaci-n/blob/master/Diagrama_de_clases.ipynb\" target=\"_parent\"><img src=\"https://colab.research.google.com/assets/colab-badge.svg\" alt=\"Open In Colab\"/></a>"
      ]
    },
    {
      "cell_type": "code",
      "execution_count": null,
      "metadata": {
        "id": "Ga1QWk4N3yYw"
      },
      "outputs": [],
      "source": [
        "class User:\n",
        "  UserId:str\n",
        "  Password:str\n",
        "  RegisterDate:date\n",
        "\n",
        "  def login(self):\n",
        "    print(\"ha ingresado de manera exitosa\")\n",
        "\n",
        "class Administrador:\n",
        "  Name:str\n",
        "  Email:str\n",
        "  User:User\n",
        "\n",
        "\n",
        "  def updateproducts(self):\n",
        "    print(\"actualizacion hecha\")\n",
        "\n",
        "class Custumer:\n",
        "  Name:str\n",
        "  Address:str\n",
        "  Email:str\n",
        "  CustumerId:str\n",
        "  AccountBalance:float\n",
        "  Usua:User\n",
        "\n",
        "  def regitro(self):\n",
        "    print(\"se ha registrado\")\n",
        "  \n",
        "  def purchase(self):\n",
        "    print(\"exito\")\n",
        "\n",
        "class Order:\n",
        "  orderid:str\n",
        "  date:date\n",
        "  costumerName:str\n",
        "  costumerId:str\n",
        "\n",
        "  def _init_(self,costumer:Costumer):\n",
        "    self.usuario=costumer\n",
        "\n",
        "  def placeorder(self):\n",
        "    print(\"se asignara un lugar a la orden\")\n",
        "\n",
        "class OrderDetails:\n",
        "  orderid:str\n",
        "  productId:str\n",
        "  productName:str\n",
        "  quatity:int\n",
        "  unitCost:float\n",
        "  total:float"
      ]
    }
  ]
}