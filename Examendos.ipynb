{
  "nbformat": 4,
  "nbformat_minor": 0,
  "metadata": {
    "colab": {
      "name": "Examendos",
      "provenance": [],
      "authorship_tag": "ABX9TyOx9TC1XU6xl+RX5ofQNZQS",
      "include_colab_link": true
    },
    "kernelspec": {
      "name": "python3",
      "display_name": "Python 3"
    },
    "language_info": {
      "name": "python"
    }
  },
  "cells": [
    {
      "cell_type": "markdown",
      "metadata": {
        "id": "view-in-github",
        "colab_type": "text"
      },
      "source": [
        "<a href=\"https://colab.research.google.com/github/dianamromeroc/Proyecto-Programaci-n/blob/master/Examendos.ipynb\" target=\"_parent\"><img src=\"https://colab.research.google.com/assets/colab-badge.svg\" alt=\"Open In Colab\"/></a>"
      ]
    },
    {
      "cell_type": "markdown",
      "metadata": {
        "id": "zR001bwoE4IH"
      },
      "source": [
        "Programa: obtener número invertido\n",
        "Desarrollado por : Diana Marcela Romero Grupo :2"
      ]
    },
    {
      "cell_type": "code",
      "metadata": {
        "id": "oyYfZGLZFGMs"
      },
      "source": [
        "import math"
      ],
      "execution_count": null,
      "outputs": []
    },
    {
      "cell_type": "code",
      "metadata": {
        "id": "-AnoHO_IFKnt"
      },
      "source": [
        "var_entr_enter_numdoscifras = 0\n",
        "var_proc_sali_enter_invertido = 0\n",
        "var_proc_sali_enter_N1 = 0\n",
        "var_proc_sali_enter_N2 = 0"
      ],
      "execution_count": null,
      "outputs": []
    },
    {
      "cell_type": "code",
      "metadata": {
        "colab": {
          "base_uri": "https://localhost:8080/"
        },
        "id": "BzmNXilWFNLm",
        "outputId": "eaea1d5c-029d-4e43-d2e5-62ba6c88a55d"
      },
      "source": [
        "var_entr_enter_numdoscifras= int(input(\"Digite número de dos cifras: \"))\n"
      ],
      "execution_count": null,
      "outputs": [
        {
          "name": "stdout",
          "output_type": "stream",
          "text": [
            "Digite número de dos cifras: 37\n"
          ]
        }
      ]
    },
    {
      "cell_type": "code",
      "metadata": {
        "id": "d8fbMieqFQAV"
      },
      "source": [
        "var_proc_sali_enter_N1 = var_entr_enter_numdoscifras%10\n",
        "var_proc_sali_enter_N2 = int((var_entr_enter_numdoscifras%100/10))\n",
        "var_proc_sali_enter_invertido = (str(var_proc_sali_enter_N1)+str(var_proc_sali_enter_N2))"
      ],
      "execution_count": null,
      "outputs": []
    },
    {
      "cell_type": "code",
      "metadata": {
        "colab": {
          "base_uri": "https://localhost:8080/"
        },
        "id": "6cBo0M99FR1f",
        "outputId": "30955ac3-90a1-44c1-c6c8-5a13e45e9ea0"
      },
      "source": [
        "\n",
        "\n",
        "print( \"El númeroinvertido es :\", var_proc_sali_enter_invertido)\n"
      ],
      "execution_count": null,
      "outputs": [
        {
          "output_type": "stream",
          "name": "stdout",
          "text": [
            "resultado número invertido es : 73\n"
          ]
        }
      ]
    }
  ]
}